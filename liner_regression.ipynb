{
 "cells": [
  {
   "cell_type": "code",
   "execution_count": 2,
   "metadata": {
    "collapsed": false
   },
   "outputs": [
    {
     "data": {
      "text/plain": [
       "'Hello Tensorflow!'"
      ]
     },
     "execution_count": 2,
     "metadata": {},
     "output_type": "execute_result"
    }
   ],
   "source": [
    "import tensorflow as tf\n",
    "hello = tf.constant('Hello Tensorflow!')\n",
    "sess = tf.Session()\n",
    "sess.run(hello)"
   ]
  },
  {
   "cell_type": "code",
   "execution_count": 3,
   "metadata": {
    "collapsed": false
   },
   "outputs": [
    {
     "data": {
      "text/plain": [
       "42"
      ]
     },
     "execution_count": 3,
     "metadata": {},
     "output_type": "execute_result"
    }
   ],
   "source": [
    "a = tf.constant(10)\n",
    "b = tf.constant(32)\n",
    "sess.run(a+b)"
   ]
  },
  {
   "cell_type": "code",
   "execution_count": 4,
   "metadata": {
    "collapsed": false
   },
   "outputs": [
    {
     "data": {
      "text/plain": [
       "<tf.Tensor 'Const:0' shape=() dtype=string>"
      ]
     },
     "execution_count": 4,
     "metadata": {},
     "output_type": "execute_result"
    }
   ],
   "source": [
    "hello"
   ]
  },
  {
   "cell_type": "code",
   "execution_count": 5,
   "metadata": {
    "collapsed": true
   },
   "outputs": [],
   "source": [
    "import numpy as np"
   ]
  },
  {
   "cell_type": "code",
   "execution_count": 10,
   "metadata": {
    "collapsed": false
   },
   "outputs": [
    {
     "name": "stdout",
     "output_type": "stream",
     "text": [
      "(0, array([ 0.2781688], dtype=float32), array([ 1.01449084], dtype=float32))\n",
      "(20, array([ 354.20565796], dtype=float32), array([ 587.41967773], dtype=float32))\n",
      "(40, array([ 344962.9375], dtype=float32), array([ 571930.], dtype=float32))\n",
      "(60, array([  3.36042752e+08], dtype=float32), array([  5.57140800e+08], dtype=float32))\n",
      "(80, array([  3.27353369e+11], dtype=float32), array([  5.42734385e+11], dtype=float32))\n",
      "(100, array([  3.18888739e+14], dtype=float32), array([  5.28700441e+14], dtype=float32))\n",
      "(120, array([  3.10643199e+17], dtype=float32), array([  5.15029663e+17], dtype=float32))\n",
      "(140, array([  3.02610651e+20], dtype=float32), array([  5.01712222e+20], dtype=float32))\n",
      "(160, array([  2.94785834e+23], dtype=float32), array([  4.88739062e+23], dtype=float32))\n",
      "(180, array([  2.87163435e+26], dtype=float32), array([  4.76101463e+26], dtype=float32))\n",
      "(200, array([  2.79738181e+29], dtype=float32), array([  4.63790715e+29], dtype=float32))\n"
     ]
    }
   ],
   "source": [
    "#ランダムな100個の点を，y = Wx + b に線形回帰させる\n",
    "\n",
    "x_data = np.random.rand(100).astype(np.float32) #32bit の 100次元ベクトル\n",
    "y_data = x_data * 0.1 + 0.3 # y = 0.3x_data\n",
    "\n",
    "W = tf.Variable(tf.random_uniform([1], -1.0, 1.0)) # -1.0～1.0までのランダムなスカラー\n",
    "b = tf.Variable(tf.zeros([1])) # 0 のスカラー\n",
    "y = W * x_data + b # y = Wx + b\n",
    "\n",
    "loss = tf.reduce_mean(tf.square(y - y_data)) #誤差関数 (y - y_data)^2\n",
    "optimizer = tf.train.GradientDescentOptimizer(0.5) #再急降下法(学習率)\n",
    "train = optimizer.minimize(loss) #関数loss の最小化\n",
    "\n",
    "# 学習前の run\n",
    "init = tf.initialize_all_variables()\n",
    "\n",
    "# 発射準備\n",
    "sess = tf.Session()\n",
    "sess.run(init)\n",
    "\n",
    "# 最適化\n",
    "for step in xrange(201):\n",
    "    sess.run(train)\n",
    "    if step % 20 == 0:\n",
    "        print(step, sess.run(W), sess.run(b))"
   ]
  },
  {
   "cell_type": "code",
   "execution_count": null,
   "metadata": {
    "collapsed": true
   },
   "outputs": [],
   "source": []
  }
 ],
 "metadata": {
  "kernelspec": {
   "display_name": "Python 2",
   "language": "python",
   "name": "python2"
  },
  "language_info": {
   "codemirror_mode": {
    "name": "ipython",
    "version": 2
   },
   "file_extension": ".py",
   "mimetype": "text/x-python",
   "name": "python",
   "nbconvert_exporter": "python",
   "pygments_lexer": "ipython2",
   "version": "2.7.6"
  }
 },
 "nbformat": 4,
 "nbformat_minor": 0
}
